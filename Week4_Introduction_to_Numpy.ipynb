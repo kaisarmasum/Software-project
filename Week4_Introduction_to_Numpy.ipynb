{
  "nbformat": 4,
  "nbformat_minor": 0,
  "metadata": {
    "colab": {
      "name": "Week4_Introduction_to_Numpy.ipynb",
      "provenance": []
    },
    "kernelspec": {
      "name": "python3",
      "display_name": "Python 3"
    }
  },
  "cells": [
    {
      "cell_type": "markdown",
      "metadata": {
        "id": "qRRnHX-20jLJ"
      },
      "source": [
        "# **NumPy Installation**\n",
        "\n",
        "Google Colab and Anaconda Package include Python, NumPy, and other commonly used packages for scientific computing and data science.\n",
        "\n",
        "NumPy can be installed with conda, with pip, or with a package manager on different OS.\n",
        "\n",
        "If you use conda, you can install it with:\n",
        "**conda install numpy**\n",
        "\n",
        "If you use pip, you can install it with:\n",
        "**pip install numpy**\n",
        "\n",
        "But here we don't need any installation process."
      ]
    },
    {
      "cell_type": "code",
      "metadata": {
        "id": "Ae4-Bmm_kcsF"
      },
      "source": [
        "import numpy as np"
      ],
      "execution_count": null,
      "outputs": []
    },
    {
      "cell_type": "markdown",
      "metadata": {
        "id": "Zg0brZzP4ihO"
      },
      "source": [
        "## Creating arrays from Existing Data"
      ]
    },
    {
      "cell_type": "code",
      "metadata": {
        "id": "C3mfhR_M1fV3"
      },
      "source": [
        "numbers = np.array([2, 3, 5, 7, 11])\n",
        "numbers"
      ],
      "execution_count": null,
      "outputs": []
    },
    {
      "cell_type": "code",
      "metadata": {
        "id": "hukIAiEX1ize"
      },
      "source": [
        "type(numbers)"
      ],
      "execution_count": null,
      "outputs": []
    },
    {
      "cell_type": "markdown",
      "metadata": {
        "id": "IupWNug_7bWK"
      },
      "source": [
        "**Multidimensional Arguments**"
      ]
    },
    {
      "cell_type": "markdown",
      "metadata": {
        "id": "VrkI_D3884tE"
      },
      "source": [
        "1D array"
      ]
    },
    {
      "cell_type": "code",
      "metadata": {
        "id": "zyyNS9ik5Wbl"
      },
      "source": [
        "array_1D = np.array([2,4,5,6])\n",
        "array_1D"
      ],
      "execution_count": null,
      "outputs": []
    },
    {
      "cell_type": "code",
      "metadata": {
        "id": "XFiq7G-WT9bd"
      },
      "source": [
        "array_1D.ndim"
      ],
      "execution_count": null,
      "outputs": []
    },
    {
      "cell_type": "markdown",
      "metadata": {
        "id": "NPXllhbI9YmV"
      },
      "source": [
        "2D array"
      ]
    },
    {
      "cell_type": "code",
      "metadata": {
        "id": "ebHatd6e9KaW"
      },
      "source": [
        "array_2D = np.array([[2,4,5,6],[2,4,5,6],[2,4,5,6]]) ## 3X4 array--(3 rows and 4 columns)\n",
        "array_2D "
      ],
      "execution_count": null,
      "outputs": []
    },
    {
      "cell_type": "code",
      "metadata": {
        "id": "dGmaHYONWBTJ"
      },
      "source": [
        "array_2D.ndim"
      ],
      "execution_count": null,
      "outputs": []
    },
    {
      "cell_type": "markdown",
      "metadata": {
        "id": "kEFSwnBq97nl"
      },
      "source": [
        "3D array"
      ]
    },
    {
      "cell_type": "code",
      "metadata": {
        "id": "5fh82r-792zz"
      },
      "source": [
        "array_3D = np.array([[[2,4,5,6],[2,4,5,6],[2,4,5,6]]])\n",
        "array_3D "
      ],
      "execution_count": null,
      "outputs": []
    },
    {
      "cell_type": "code",
      "metadata": {
        "id": "0zwP8X4eWHEN"
      },
      "source": [
        "array_3D.ndim"
      ],
      "execution_count": null,
      "outputs": []
    },
    {
      "cell_type": "markdown",
      "metadata": {
        "id": "QIqZjMhbFDEr"
      },
      "source": [
        "![image.png](data:image/png;base64,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)"
      ]
    },
    {
      "cell_type": "code",
      "metadata": {
        "id": "N9eI2ewxFOr2"
      },
      "source": [
        "import numpy as np\n",
        "output = np.array([[x for x in range(2,21,2)],[x for x in range(1,22,2)]])\n",
        "output"
      ],
      "execution_count": null,
      "outputs": []
    },
    {
      "cell_type": "markdown",
      "metadata": {
        "id": "4dSluKiLPHAc"
      },
      "source": [
        "## **Array Attributes**"
      ]
    },
    {
      "cell_type": "code",
      "metadata": {
        "id": "t-f3DWknLHc7"
      },
      "source": [
        "integers = np.array([[1, 2, 3], [4, 5, 6]])\n",
        "integers"
      ],
      "execution_count": null,
      "outputs": []
    },
    {
      "cell_type": "code",
      "metadata": {
        "id": "xllXNh65RNvT"
      },
      "source": [
        "integers.dtype"
      ],
      "execution_count": null,
      "outputs": []
    },
    {
      "cell_type": "code",
      "metadata": {
        "id": "crJU71F8Q4hC"
      },
      "source": [
        "floats = np.array([0.0, 0.1, 0.2, 0.3, 0.4])\n",
        "floats    #NumPy does not display trailing 0s to the right of the decimal point in floating-point values."
      ],
      "execution_count": null,
      "outputs": []
    },
    {
      "cell_type": "code",
      "metadata": {
        "id": "f28Y7hhkT3eu"
      },
      "source": [
        "floats.dtype"
      ],
      "execution_count": null,
      "outputs": []
    },
    {
      "cell_type": "code",
      "metadata": {
        "id": "BwBvJyeBQ9dD"
      },
      "source": [
        "strings = np.array(['apple','big','cat'])\n",
        "strings "
      ],
      "execution_count": null,
      "outputs": []
    },
    {
      "cell_type": "code",
      "metadata": {
        "id": "HZxSs5Q1T6tp"
      },
      "source": [
        "strings.dtype"
      ],
      "execution_count": null,
      "outputs": []
    },
    {
      "cell_type": "code",
      "metadata": {
        "id": "2_tNsZKx5A97"
      },
      "source": [
        "arr1 = np.array([ [1,2], [3,4] ], dtype=float)\r\n",
        "arr1"
      ],
      "execution_count": null,
      "outputs": []
    },
    {
      "cell_type": "code",
      "metadata": {
        "id": "PQXyfgNp83T5"
      },
      "source": [
        "c = np.array( [ [1,2], [3,4] ], dtype=complex )\r\n",
        "c"
      ],
      "execution_count": null,
      "outputs": []
    },
    {
      "cell_type": "code",
      "metadata": {
        "id": "ubfqqtLw9ILD"
      },
      "source": [
        "c.itemsize"
      ],
      "execution_count": null,
      "outputs": []
    },
    {
      "cell_type": "code",
      "metadata": {
        "id": "ti_5HFB-8S81"
      },
      "source": [
        "c.data"
      ],
      "execution_count": null,
      "outputs": []
    },
    {
      "cell_type": "markdown",
      "metadata": {
        "id": "Rm7FH1u0ViPv"
      },
      "source": [
        "Checking an array’s Shape"
      ]
    },
    {
      "cell_type": "code",
      "metadata": {
        "id": "D6vuuVZz3a8y"
      },
      "source": [
        "array_1D.shape"
      ],
      "execution_count": null,
      "outputs": []
    },
    {
      "cell_type": "code",
      "metadata": {
        "id": "7Rp8BX-oWSbD"
      },
      "source": [
        "array_3D.shape"
      ],
      "execution_count": null,
      "outputs": []
    },
    {
      "cell_type": "code",
      "metadata": {
        "id": "y8YPsboHWVqe"
      },
      "source": [
        "array_2D.shape"
      ],
      "execution_count": null,
      "outputs": []
    },
    {
      "cell_type": "markdown",
      "metadata": {
        "id": "DRrI0guTfOu-"
      },
      "source": [
        "Checking an array’s Number of Elements and Element Size"
      ]
    },
    {
      "cell_type": "code",
      "metadata": {
        "id": "WIRp3WbLWaM1"
      },
      "source": [
        "integers.size"
      ],
      "execution_count": null,
      "outputs": []
    },
    {
      "cell_type": "code",
      "metadata": {
        "id": "aC3ICsbHfWjh"
      },
      "source": [
        "integers.itemsize"
      ],
      "execution_count": null,
      "outputs": []
    },
    {
      "cell_type": "code",
      "metadata": {
        "id": "maD1tc1Ofa7x"
      },
      "source": [
        "floats.size"
      ],
      "execution_count": null,
      "outputs": []
    },
    {
      "cell_type": "code",
      "metadata": {
        "id": "E2vYSCgtfeEY"
      },
      "source": [
        "floats.itemsize"
      ],
      "execution_count": null,
      "outputs": []
    },
    {
      "cell_type": "code",
      "metadata": {
        "id": "sFmnWZug4NhW"
      },
      "source": [
        "ar1 = np.array([1,3,5,8],dtype = np.complex128)"
      ],
      "execution_count": null,
      "outputs": []
    },
    {
      "cell_type": "code",
      "metadata": {
        "id": "ceVecjeQ4nER"
      },
      "source": [
        "ar1.itemsize"
      ],
      "execution_count": null,
      "outputs": []
    },
    {
      "cell_type": "markdown",
      "metadata": {
        "id": "uiBiE-u9kmmu"
      },
      "source": [
        "#**Array Operators**"
      ]
    },
    {
      "cell_type": "code",
      "metadata": {
        "id": "Qrjb6tW6fhuE"
      },
      "source": [
        "x = np.arange(4)"
      ],
      "execution_count": null,
      "outputs": []
    },
    {
      "cell_type": "code",
      "metadata": {
        "id": "jsmG-EBumRVM"
      },
      "source": [
        "x+10 #scalar addition is element wise"
      ],
      "execution_count": null,
      "outputs": []
    },
    {
      "cell_type": "code",
      "metadata": {
        "id": "bZuSApBYl6ge"
      },
      "source": [
        "x*2 #scalar multiplication is element wise"
      ],
      "execution_count": null,
      "outputs": []
    },
    {
      "cell_type": "code",
      "metadata": {
        "id": "UXP_ZwlsmeQU"
      },
      "source": [
        "x+x #array addition is element wise"
      ],
      "execution_count": null,
      "outputs": []
    },
    {
      "cell_type": "code",
      "metadata": {
        "id": "p8v32i2HmpZz"
      },
      "source": [
        "x*x #array multiplicatio is element wise"
      ],
      "execution_count": null,
      "outputs": []
    },
    {
      "cell_type": "code",
      "metadata": {
        "id": "ZZbggdi0mwab"
      },
      "source": [
        "x/10 #array division is element wise"
      ],
      "execution_count": null,
      "outputs": []
    },
    {
      "cell_type": "code",
      "metadata": {
        "id": "KfCwjloOm8BX"
      },
      "source": [
        "x//2"
      ],
      "execution_count": null,
      "outputs": []
    },
    {
      "cell_type": "code",
      "metadata": {
        "id": "OTajV9P7nGv2"
      },
      "source": [
        "x**3"
      ],
      "execution_count": null,
      "outputs": []
    },
    {
      "cell_type": "code",
      "metadata": {
        "id": "ifmRyp3YnKaC"
      },
      "source": [
        "x = np.array([[11,9,11],[2,15,18]])"
      ],
      "execution_count": null,
      "outputs": []
    },
    {
      "cell_type": "code",
      "metadata": {
        "id": "LvVtmSoWoLJB"
      },
      "source": [
        "x>10"
      ],
      "execution_count": null,
      "outputs": []
    },
    {
      "cell_type": "code",
      "metadata": {
        "id": "ozzdHEb8oP55"
      },
      "source": [
        "x>=10"
      ],
      "execution_count": null,
      "outputs": []
    },
    {
      "cell_type": "code",
      "metadata": {
        "id": "woHP_ZYvoo5K"
      },
      "source": [
        "x<10"
      ],
      "execution_count": null,
      "outputs": []
    },
    {
      "cell_type": "code",
      "metadata": {
        "id": "7JnPoJzJosFY"
      },
      "source": [
        "x<=10"
      ],
      "execution_count": null,
      "outputs": []
    },
    {
      "cell_type": "code",
      "metadata": {
        "id": "evLl_-Bcotii"
      },
      "source": [
        "x==9"
      ],
      "execution_count": null,
      "outputs": []
    },
    {
      "cell_type": "code",
      "metadata": {
        "id": "3bpWl41woyn5"
      },
      "source": [
        "x!=11"
      ],
      "execution_count": null,
      "outputs": []
    },
    {
      "cell_type": "markdown",
      "metadata": {
        "id": "jlxE-GX7t-3H"
      },
      "source": [
        "#**NumPy Methods**"
      ]
    },
    {
      "cell_type": "code",
      "metadata": {
        "id": "YQmCf0B4pfSF"
      },
      "source": [
        "grades = np.array([[87, 96, 70], [100, 87, 90],\n",
        "                   [94, 77, 90], [100, 81, 82]])"
      ],
      "execution_count": null,
      "outputs": []
    },
    {
      "cell_type": "code",
      "metadata": {
        "id": "I4ef235at4sp"
      },
      "source": [
        "grades"
      ],
      "execution_count": null,
      "outputs": []
    },
    {
      "cell_type": "code",
      "metadata": {
        "id": "MaXqOvYQuOGa"
      },
      "source": [
        "grades.max()"
      ],
      "execution_count": null,
      "outputs": []
    },
    {
      "cell_type": "code",
      "metadata": {
        "id": "5IXMlWfYuZnL"
      },
      "source": [
        "grades.min()"
      ],
      "execution_count": null,
      "outputs": []
    },
    {
      "cell_type": "code",
      "metadata": {
        "id": "vCDmKUM_uc5Q"
      },
      "source": [
        "grades.sum()"
      ],
      "execution_count": null,
      "outputs": []
    },
    {
      "cell_type": "code",
      "metadata": {
        "id": "-E919MGMuit-"
      },
      "source": [
        "grades.std()"
      ],
      "execution_count": null,
      "outputs": []
    },
    {
      "cell_type": "code",
      "metadata": {
        "id": "8IivlXTausk8"
      },
      "source": [
        "grades.mean()"
      ],
      "execution_count": null,
      "outputs": []
    },
    {
      "cell_type": "code",
      "metadata": {
        "id": "U28MgPWnu2Gn"
      },
      "source": [
        "grades.var()"
      ],
      "execution_count": null,
      "outputs": []
    },
    {
      "cell_type": "code",
      "metadata": {
        "id": "Or_i3Bsku_g_"
      },
      "source": [
        "grades.mean(axis=0)"
      ],
      "execution_count": null,
      "outputs": []
    },
    {
      "cell_type": "markdown",
      "metadata": {
        "id": "1JerA0p-lQae"
      },
      "source": [
        "![h1alT.jpg](data:image/jpeg;base64,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)"
      ]
    },
    {
      "cell_type": "code",
      "metadata": {
        "id": "G48wBYeHvIdm"
      },
      "source": [
        "grades.mean(axis=1)"
      ],
      "execution_count": null,
      "outputs": []
    },
    {
      "cell_type": "markdown",
      "metadata": {
        "id": "y98uYoT5-P0z"
      },
      "source": [
        "Creating Array using Numpy"
      ]
    },
    {
      "cell_type": "code",
      "metadata": {
        "id": "0XejvQX7-7jo"
      },
      "source": [
        "np.arange(2, 16, 2)"
      ],
      "execution_count": null,
      "outputs": []
    },
    {
      "cell_type": "code",
      "metadata": {
        "id": "dpgieeHU-VqR"
      },
      "source": [
        "np.linspace( 0, 2, num=10 )"
      ],
      "execution_count": null,
      "outputs": []
    },
    {
      "cell_type": "code",
      "metadata": {
        "id": "zU9jVW60TwMg"
      },
      "source": [
        "z=np.zeros((4,4))\r\n",
        "z"
      ],
      "execution_count": null,
      "outputs": []
    },
    {
      "cell_type": "code",
      "metadata": {
        "id": "4n20i2TEUDnn"
      },
      "source": [
        "o= np.ones((2,4))\r\n",
        "o"
      ],
      "execution_count": null,
      "outputs": []
    },
    {
      "cell_type": "code",
      "metadata": {
        "id": "-_XeXWnkULb7"
      },
      "source": [
        "c = np.full((3,3), 5)\r\n",
        "c"
      ],
      "execution_count": null,
      "outputs": []
    },
    {
      "cell_type": "code",
      "metadata": {
        "id": "JUUI1KyhUbgc"
      },
      "source": [
        "i = np.eye(4)\r\n",
        "i"
      ],
      "execution_count": null,
      "outputs": []
    },
    {
      "cell_type": "code",
      "metadata": {
        "id": "oNKGIOD9Ukr_"
      },
      "source": [
        "r = np.random.random((2,4))\r\n",
        "r"
      ],
      "execution_count": null,
      "outputs": []
    },
    {
      "cell_type": "markdown",
      "metadata": {
        "id": "c9xQFlfZGBES"
      },
      "source": [
        "#Shallow and Deep Copy"
      ]
    },
    {
      "cell_type": "code",
      "metadata": {
        "id": "2yQIsGp8D8U7"
      },
      "source": [
        "import copy\r\n",
        "\r\n",
        "li1 = [1, 2, [3,5], 4]  "
      ],
      "execution_count": null,
      "outputs": []
    },
    {
      "cell_type": "code",
      "metadata": {
        "id": "pNO6iR9EkT7p"
      },
      "source": [
        "li2 = copy.copy(li1) "
      ],
      "execution_count": null,
      "outputs": []
    },
    {
      "cell_type": "code",
      "metadata": {
        "id": "A-zlMp8Kkheq"
      },
      "source": [
        "li2"
      ],
      "execution_count": null,
      "outputs": []
    },
    {
      "cell_type": "code",
      "metadata": {
        "id": "-rmtdDYHmE8G"
      },
      "source": [
        "li1"
      ],
      "execution_count": null,
      "outputs": []
    },
    {
      "cell_type": "code",
      "metadata": {
        "id": "4nj0b8NKmaO1"
      },
      "source": [
        "li2[2][0] = 'Z'"
      ],
      "execution_count": null,
      "outputs": []
    },
    {
      "cell_type": "code",
      "metadata": {
        "id": "OuOa3o9kmmKd"
      },
      "source": [
        "li2"
      ],
      "execution_count": null,
      "outputs": []
    },
    {
      "cell_type": "code",
      "metadata": {
        "id": "6jnKPZERmpMm"
      },
      "source": [
        "li1"
      ],
      "execution_count": null,
      "outputs": []
    }
  ]
}